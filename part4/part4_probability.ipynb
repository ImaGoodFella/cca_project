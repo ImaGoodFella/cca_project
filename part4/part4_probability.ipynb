{
 "cells": [
  {
   "cell_type": "code",
   "execution_count": 1,
   "id": "0d2e890f",
   "metadata": {},
   "outputs": [
    {
     "data": {
      "text/plain": [
       "np.float64(153981.29699369048)"
      ]
     },
     "execution_count": 1,
     "metadata": {},
     "output_type": "execute_result"
    }
   ],
   "source": [
    "import numpy as np\n",
    "import matplotlib.pyplot as plt\n",
    "from scipy.stats import uniform\n",
    "\n",
    "# Define the parameters\n",
    "a, b = 5000, 110000      # X ~ U(a, b)\n",
    "c, d = 110001, 180000    # Y ~ U(c, d)\n",
    "\n",
    "# Sample a large number of (X, Y) pairs\n",
    "N = 10_000_000\n",
    "X = np.random.uniform(a, b, N)\n",
    "Y = np.random.uniform(c, d, N)\n",
    "\n",
    "# Compute Z = Y - X\n",
    "Z = Y - X\n",
    "\n",
    "# Compute the 3rd percentile\n",
    "z_97_percentile = np.percentile(Z, 97)\n",
    "\n",
    "z_97_percentile"
   ]
  },
  {
   "cell_type": "code",
   "execution_count": 2,
   "id": "91b44e7c",
   "metadata": {},
   "outputs": [
    {
     "data": {
      "text/plain": [
       "np.float64(0.4223072685133623)"
      ]
     },
     "execution_count": 2,
     "metadata": {},
     "output_type": "execute_result"
    }
   ],
   "source": [
    "epsilon = 1e-10\n",
    "mask = np.abs(X - Y) > epsilon\n",
    "\n",
    "X_valid = X[mask]\n",
    "Y_valid = Y[mask]\n",
    "\n",
    "s_values = (110000 - Y_valid) / (X_valid - Y_valid)\n",
    "\n",
    "# We are only interested in s in [0, 1]\n",
    "s_valid = s_values[(s_values >= 0) & (s_values <= 1)]\n",
    "\n",
    "# Compute the average value\n",
    "average_s = np.mean(s_valid)\n",
    "\n",
    "average_s"
   ]
  },
  {
   "cell_type": "code",
   "execution_count": 3,
   "id": "cd7dc525",
   "metadata": {},
   "outputs": [
    {
     "name": "stdout",
     "output_type": "stream",
     "text": [
      "Distribution of rounded s values:\n",
      "s = 0.1: 833850 occurrences\n",
      "s = 0.2: 1041945 occurrences\n",
      "s = 0.3: 1340171 occurrences\n",
      "s = 0.4: 1604433 occurrences\n",
      "s = 0.5: 1545566 occurrences\n",
      "s = 0.6: 1110838 occurrences\n",
      "s = 0.7: 794087 occurrences\n",
      "s = 0.8: 595521 occurrences\n",
      "s = 0.9: 463462 occurrences\n",
      "s = 1.0: 370127 occurrences\n"
     ]
    },
    {
     "data": {
      "text/plain": [
       "np.float64(0.4736499793814431)"
      ]
     },
     "execution_count": 3,
     "metadata": {},
     "output_type": "execute_result"
    }
   ],
   "source": [
    "# Apply additional condition: only keep X, Y such that Y - X < 153973.58\n",
    "delta_threshold = z_97_percentile\n",
    "delta = Y_valid - X_valid\n",
    "\n",
    "# Apply the mask for Y - X < threshold\n",
    "final_mask = delta < delta_threshold\n",
    "\n",
    "X_final = X_valid[final_mask]\n",
    "Y_final = Y_valid[final_mask]\n",
    "\n",
    "# Recalculate s for this subset\n",
    "s_continuous = (110000 - Y_final) / (X_final - Y_final)\n",
    "\n",
    "# Ceil s values to nearest 0.1 (i.e., 0.1, 0.2, 0.3, ..., 0.9, 1.0)\n",
    "s_rounded = np.ceil(s_continuous * 10) / 10\n",
    "\n",
    "# Keep only values where s is in [0, 1]\n",
    "s_final_valid = s_rounded[(s_rounded >= 0) & (s_rounded <= 1)]\n",
    "\n",
    "# Compute the average of valid s\n",
    "average_s_filtered = np.mean(s_final_valid)\n",
    "\n",
    "# Count frequency of each rounded value\n",
    "unique_s_values, counts = np.unique(s_final_valid, return_counts=True)\n",
    "s_distribution = dict(zip(unique_s_values, counts))\n",
    "\n",
    "print(\"Distribution of rounded s values:\")\n",
    "for s_val in sorted(s_distribution.keys()):\n",
    "    print(f\"s = {s_val:.1f}: {s_distribution[s_val]} occurrences\")\n",
    "\n",
    "average_s_filtered"
   ]
  },
  {
   "cell_type": "code",
   "execution_count": null,
   "id": "14dc57b9",
   "metadata": {},
   "outputs": [],
   "source": []
  }
 ],
 "metadata": {
  "kernelspec": {
   "display_name": "plots",
   "language": "python",
   "name": "python3"
  },
  "language_info": {
   "codemirror_mode": {
    "name": "ipython",
    "version": 3
   },
   "file_extension": ".py",
   "mimetype": "text/x-python",
   "name": "python",
   "nbconvert_exporter": "python",
   "pygments_lexer": "ipython3",
   "version": "3.13.2"
  }
 },
 "nbformat": 4,
 "nbformat_minor": 5
}
