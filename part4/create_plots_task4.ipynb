{
 "cells": [
  {
   "cell_type": "code",
   "execution_count": 1,
   "id": "707a3d8c",
   "metadata": {},
   "outputs": [],
   "source": [
    "import matplotlib.pyplot as plt\n",
    "import numpy as np\n",
    "import pandas as pd\n",
    "import seaborn as sns\n",
    "import sys\n",
    "import os\n",
    "import datetime"
   ]
  },
  {
   "cell_type": "code",
   "execution_count": null,
   "id": "21ec9191",
   "metadata": {},
   "outputs": [],
   "source": [
    "interval_time = datetime.time(second=10)\n",
    "\n",
    "path = \"task4_outfiles_4s\"\n",
    "#path = \"../data/part4/task2\"\n",
    "\n",
    "num_files = 3\n",
    "#num_files = 1"
   ]
  },
  {
   "cell_type": "code",
   "execution_count": 3,
   "id": "86195ec2",
   "metadata": {},
   "outputs": [],
   "source": [
    "def read_txt_file(file_path):\n",
    "    \"\"\"\n",
    "    Reads a text file and returns\n",
    "    \"\"\"\n",
    "    with open(file_path, 'r') as file:\n",
    "        lines = file.readlines()\n",
    "    return lines"
   ]
  },
  {
   "cell_type": "code",
   "execution_count": 4,
   "id": "e42a5b75",
   "metadata": {},
   "outputs": [
    {
     "name": "stderr",
     "output_type": "stream",
     "text": [
      "<>:1: SyntaxWarning: invalid escape sequence '\\s'\n",
      "<>:1: SyntaxWarning: invalid escape sequence '\\s'\n",
      "/tmp/ipykernel_9805/1870524603.py:1: SyntaxWarning: invalid escape sequence '\\s'\n",
      "  mcperf_files = [pd.read_csv(f\"{path}/mcperf_{i}.txt\", skiprows=3, sep='\\s+') for i in range(1, num_files + 1)]\n"
     ]
    }
   ],
   "source": [
    "mcperf_files = [pd.read_csv(f\"{path}/mcperf_{i}.txt\", skiprows=3, sep='\\s+') for i in range(1, num_files + 1)]\n",
    "jobs_files = [read_txt_file(f\"{path}/jobs_{i}.txt\") for i in range(1, num_files + 1)]"
   ]
  },
  {
   "cell_type": "code",
   "execution_count": 5,
   "id": "8dd4a240",
   "metadata": {},
   "outputs": [],
   "source": [
    "start_times = [datetime.datetime.fromisoformat(jobs_files[i][0].split()[0]) for i in range(num_files)]\n",
    "end_times = [datetime.datetime.fromisoformat(jobs_files[i][-1].split()[0]) for i in range(num_files)]"
   ]
  },
  {
   "cell_type": "code",
   "execution_count": 6,
   "id": "1db8d1e2",
   "metadata": {},
   "outputs": [],
   "source": [
    "def get_runtime(history):\n",
    "\n",
    "    duration = datetime.datetime.fromisoformat(history[-1].split()[0]) - datetime.datetime.fromisoformat(history[0].split()[0])\n",
    "    for i in range(1, len(history) - 1, 2):\n",
    "        duration -= datetime.datetime.fromisoformat(history[i + 1].split()[0]) - datetime.datetime.fromisoformat(history[i].split()[0])\n",
    "    \n",
    "    print(history)\n",
    "    return duration.total_seconds()"
   ]
  },
  {
   "cell_type": "code",
   "execution_count": 7,
   "id": "34666f71",
   "metadata": {},
   "outputs": [
    {
     "name": "stdout",
     "output_type": "stream",
     "text": [
      "['2025-05-14T09:06:19.897139 start blackscholes [3] 1\\n', '2025-05-14T09:08:57.776281 end blackscholes\\n']\n",
      "['2025-05-14T09:06:19.661662 start canneal [2] 1\\n', '2025-05-14T09:11:16.750761 end canneal\\n']\n",
      "['2025-05-14T09:08:27.885542 start dedup [1] 1\\n', '2025-05-14T09:08:34.471145 pause dedup\\n', '2025-05-14T09:08:48.996553 unpause dedup\\n', '2025-05-14T09:08:58.689430 pause dedup\\n', '2025-05-14T09:14:08.667854 unpause dedup\\n', '2025-05-14T09:14:27.390267 end dedup\\n']\n",
      "['2025-05-14T09:14:08.887137 start ferret [2] 3\\n', '2025-05-14T09:17:24.769780 end ferret\\n']\n",
      "['2025-05-14T09:08:58.429811 start freqmine [3] 3\\n', '2025-05-14T09:14:08.633886 end freqmine\\n']\n",
      "['2025-05-14T09:06:19.445363 start radix [1] 1\\n', '2025-05-14T09:06:32.345094 pause radix\\n', '2025-05-14T09:06:37.247805 unpause radix\\n', '2025-05-14T09:06:40.682170 pause radix\\n', '2025-05-14T09:07:22.943790 unpause radix\\n', '2025-05-14T09:07:25.139043 pause radix\\n', '2025-05-14T09:07:31.545390 unpause radix\\n', '2025-05-14T09:07:37.768206 pause radix\\n', '2025-05-14T09:07:40.160911 unpause radix\\n', '2025-05-14T09:07:47.021114 pause radix\\n', '2025-05-14T09:07:52.775698 unpause radix\\n', '2025-05-14T09:07:55.097665 pause radix\\n', '2025-05-14T09:08:01.313602 unpause radix\\n', '2025-05-14T09:08:07.604615 pause radix\\n', '2025-05-14T09:08:10.338487 unpause radix\\n', '2025-05-14T09:08:13.693963 pause radix\\n', '2025-05-14T09:08:22.206317 unpause radix\\n', '2025-05-14T09:08:27.541506 end radix\\n']\n",
      "['2025-05-14T09:17:25.061650 start vips [2] 3\\n', '2025-05-14T09:18:26.877882 end vips\\n']\n",
      "['2025-05-14T09:21:00.132245 start blackscholes [3] 1\\n', '2025-05-14T09:23:31.960294 end blackscholes\\n']\n",
      "['2025-05-14T09:20:59.900210 start canneal [2] 1\\n', '2025-05-14T09:25:53.034166 end canneal\\n']\n",
      "['2025-05-14T09:23:10.755117 start dedup [1] 1\\n', '2025-05-14T09:23:15.409126 pause dedup\\n', '2025-05-14T09:23:29.812575 unpause dedup\\n', '2025-05-14T09:23:42.801095 pause dedup\\n', '2025-05-14T09:28:44.882866 unpause dedup\\n', '2025-05-14T09:29:01.369826 end dedup\\n']\n",
      "['2025-05-14T09:28:45.109941 start ferret [2] 3\\n', '2025-05-14T09:31:57.016374 end ferret\\n']\n",
      "['2025-05-14T09:23:32.251934 start freqmine [3] 3\\n', '2025-05-14T09:28:44.848161 end freqmine\\n']\n",
      "['2025-05-14T09:20:59.693617 start radix [1] 1\\n', '2025-05-14T09:21:13.186761 pause radix\\n', '2025-05-14T09:21:18.074767 unpause radix\\n', '2025-05-14T09:21:21.414632 pause radix\\n', '2025-05-14T09:22:03.695644 unpause radix\\n', '2025-05-14T09:22:05.778467 pause radix\\n', '2025-05-14T09:22:12.296551 unpause radix\\n', '2025-05-14T09:22:18.644696 pause radix\\n', '2025-05-14T09:22:20.946637 unpause radix\\n', '2025-05-14T09:22:27.723469 pause radix\\n', '2025-05-14T09:22:33.548504 unpause radix\\n', '2025-05-14T09:22:35.717189 pause radix\\n', '2025-05-14T09:22:42.126779 unpause radix\\n', '2025-05-14T09:22:48.334982 pause radix\\n', '2025-05-14T09:22:51.165343 unpause radix\\n', '2025-05-14T09:22:54.456216 pause radix\\n', '2025-05-14T09:23:02.932665 unpause radix\\n', '2025-05-14T09:23:10.429806 end radix\\n']\n",
      "['2025-05-14T09:31:57.220220 start vips [2] 3\\n', '2025-05-14T09:32:53.594240 end vips\\n']\n",
      "['2025-05-14T09:35:41.972177 start blackscholes [3] 1\\n', '2025-05-14T09:38:20.598470 end blackscholes\\n']\n",
      "['2025-05-14T09:35:41.737696 start canneal [2] 1\\n', '2025-05-14T09:40:43.936439 end canneal\\n']\n",
      "['2025-05-14T09:37:51.320118 start dedup [1] 1\\n', '2025-05-14T09:37:56.330121 pause dedup\\n', '2025-05-14T09:38:10.730599 unpause dedup\\n', '2025-05-14T09:38:21.497352 pause dedup\\n', '2025-05-14T09:43:36.267701 unpause dedup\\n', '2025-05-14T09:43:55.938028 end dedup\\n']\n",
      "['2025-05-14T09:43:36.496954 start ferret [2] 3\\n', '2025-05-14T09:46:51.616739 end ferret\\n']\n",
      "['2025-05-14T09:38:21.219433 start freqmine [3] 3\\n', '2025-05-14T09:43:36.231356 end freqmine\\n']\n",
      "['2025-05-14T09:35:41.526467 start radix [1] 1\\n', '2025-05-14T09:35:54.219195 pause radix\\n', '2025-05-14T09:35:58.947889 unpause radix\\n', '2025-05-14T09:36:02.395415 pause radix\\n', '2025-05-14T09:36:44.646855 unpause radix\\n', '2025-05-14T09:36:46.746565 pause radix\\n', '2025-05-14T09:36:53.265458 unpause radix\\n', '2025-05-14T09:36:59.567126 pause radix\\n', '2025-05-14T09:37:01.963592 unpause radix\\n', '2025-05-14T09:37:08.671055 pause radix\\n', '2025-05-14T09:37:14.586226 unpause radix\\n', '2025-05-14T09:37:16.800643 pause radix\\n', '2025-05-14T09:37:23.074260 unpause radix\\n', '2025-05-14T09:37:29.399361 pause radix\\n', '2025-05-14T09:37:32.100731 unpause radix\\n', '2025-05-14T09:37:35.286891 pause radix\\n', '2025-05-14T09:37:43.896599 unpause radix\\n', '2025-05-14T09:37:50.966658 end radix\\n']\n",
      "['2025-05-14T09:46:51.848028 start vips [2] 3\\n', '2025-05-14T09:47:49.948737 end vips\\n']\n"
     ]
    }
   ],
   "source": [
    "total_durations = [(end_times[i] - start_times[i]).total_seconds() for i in range(num_files)]\n",
    "\n",
    "jobs = ['blackscholes', 'canneal', 'dedup', 'ferret', 'freqmine', 'radix', 'vips']\n",
    "\n",
    "\n",
    "jobs_timestamps = [{j : [l for l in jobs_files[i] if j in l] for j in jobs} for i in range(num_files)]\n",
    "jobs_duration = [{j: get_runtime([e for e in h if 'custom' not in e and 'updated' not in e]) for j,h in jobs_timestamps[i].items()} for i in range(num_files)]"
   ]
  },
  {
   "cell_type": "code",
   "execution_count": 8,
   "id": "a618fd44",
   "metadata": {},
   "outputs": [
    {
     "data": {
      "text/plain": [
       "(np.float64(723.5430226666667),\n",
       " np.float64(6.672005275584693),\n",
       " [727.742728, 714.125702, 728.760638])"
      ]
     },
     "execution_count": 8,
     "metadata": {},
     "output_type": "execute_result"
    }
   ],
   "source": [
    "np.mean(total_durations), np.std(total_durations), total_durations"
   ]
  },
  {
   "cell_type": "code",
   "execution_count": 9,
   "id": "02909e7f",
   "metadata": {},
   "outputs": [
    {
     "data": {
      "text/html": [
       "<div>\n",
       "<style scoped>\n",
       "    .dataframe tbody tr th:only-of-type {\n",
       "        vertical-align: middle;\n",
       "    }\n",
       "\n",
       "    .dataframe tbody tr th {\n",
       "        vertical-align: top;\n",
       "    }\n",
       "\n",
       "    .dataframe thead th {\n",
       "        text-align: right;\n",
       "    }\n",
       "</style>\n",
       "<table border=\"1\" class=\"dataframe\">\n",
       "  <thead>\n",
       "    <tr style=\"text-align: right;\">\n",
       "      <th></th>\n",
       "      <th>blackscholes</th>\n",
       "      <th>canneal</th>\n",
       "      <th>dedup</th>\n",
       "      <th>ferret</th>\n",
       "      <th>freqmine</th>\n",
       "      <th>radix</th>\n",
       "      <th>vips</th>\n",
       "    </tr>\n",
       "  </thead>\n",
       "  <tbody>\n",
       "    <tr>\n",
       "      <th>mean</th>\n",
       "      <td>156.111161</td>\n",
       "      <td>297.473933</td>\n",
       "      <td>34.859155</td>\n",
       "      <td>194.302954</td>\n",
       "      <td>312.604075</td>\n",
       "      <td>50.055519</td>\n",
       "      <td>58.763654</td>\n",
       "    </tr>\n",
       "    <tr>\n",
       "      <th>std</th>\n",
       "      <td>3.728049</td>\n",
       "      <td>4.544630</td>\n",
       "      <td>0.670135</td>\n",
       "      <td>2.110207</td>\n",
       "      <td>2.403934</td>\n",
       "      <td>1.144886</td>\n",
       "      <td>2.781014</td>\n",
       "    </tr>\n",
       "  </tbody>\n",
       "</table>\n",
       "</div>"
      ],
      "text/plain": [
       "      blackscholes     canneal      dedup      ferret    freqmine      radix  \\\n",
       "mean    156.111161  297.473933  34.859155  194.302954  312.604075  50.055519   \n",
       "std       3.728049    4.544630   0.670135    2.110207    2.403934   1.144886   \n",
       "\n",
       "           vips  \n",
       "mean  58.763654  \n",
       "std    2.781014  "
      ]
     },
     "execution_count": 9,
     "metadata": {},
     "output_type": "execute_result"
    }
   ],
   "source": [
    "pd.DataFrame(jobs_duration).agg(['mean', 'std'])"
   ]
  },
  {
   "cell_type": "code",
   "execution_count": 10,
   "id": "dad846e3",
   "metadata": {},
   "outputs": [
    {
     "data": {
      "text/plain": [
       "[8, 7, 6]"
      ]
     },
     "execution_count": 10,
     "metadata": {},
     "output_type": "execute_result"
    }
   ],
   "source": [
    "slo_violations = [int((mcperf_files[i]['p95'] > 800).sum()) for i in range(num_files)]\n",
    "slo_violations"
   ]
  },
  {
   "cell_type": "code",
   "execution_count": null,
   "id": "04a01a69",
   "metadata": {},
   "outputs": [],
   "source": []
  },
  {
   "cell_type": "code",
   "execution_count": null,
   "id": "df1c8c26",
   "metadata": {},
   "outputs": [],
   "source": []
  },
  {
   "cell_type": "code",
   "execution_count": null,
   "id": "30fae9af",
   "metadata": {},
   "outputs": [],
   "source": []
  },
  {
   "cell_type": "code",
   "execution_count": null,
   "id": "9b436fe6",
   "metadata": {},
   "outputs": [],
   "source": []
  }
 ],
 "metadata": {
  "kernelspec": {
   "display_name": "plots",
   "language": "python",
   "name": "python3"
  },
  "language_info": {
   "codemirror_mode": {
    "name": "ipython",
    "version": 3
   },
   "file_extension": ".py",
   "mimetype": "text/x-python",
   "name": "python",
   "nbconvert_exporter": "python",
   "pygments_lexer": "ipython3",
   "version": "3.13.2"
  }
 },
 "nbformat": 4,
 "nbformat_minor": 5
}
