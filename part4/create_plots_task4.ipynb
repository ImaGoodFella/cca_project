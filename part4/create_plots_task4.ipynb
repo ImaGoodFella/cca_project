{
 "cells": [
  {
   "cell_type": "code",
   "execution_count": 1,
   "id": "707a3d8c",
   "metadata": {},
   "outputs": [],
   "source": [
    "import matplotlib.pyplot as plt\n",
    "import numpy as np\n",
    "import pandas as pd\n",
    "import seaborn as sns\n",
    "import sys\n",
    "import os\n",
    "import datetime"
   ]
  },
  {
   "cell_type": "code",
   "execution_count": 2,
   "id": "21ec9191",
   "metadata": {},
   "outputs": [],
   "source": [
    "interval_time = datetime.time(second=10)\n",
    "\n",
    "path = \"task4_outfiles\"\n",
    "#path = \"../data/part4/task2\"\n",
    "\n",
    "num_files = 3\n",
    "#num_files = 1"
   ]
  },
  {
   "cell_type": "code",
   "execution_count": 3,
   "id": "86195ec2",
   "metadata": {},
   "outputs": [],
   "source": [
    "def read_txt_file(file_path):\n",
    "    \"\"\"\n",
    "    Reads a text file and returns\n",
    "    \"\"\"\n",
    "    with open(file_path, 'r') as file:\n",
    "        lines = file.readlines()\n",
    "    return lines"
   ]
  },
  {
   "cell_type": "code",
   "execution_count": 4,
   "id": "e42a5b75",
   "metadata": {},
   "outputs": [
    {
     "name": "stderr",
     "output_type": "stream",
     "text": [
      "<>:1: SyntaxWarning: invalid escape sequence '\\s'\n",
      "<>:1: SyntaxWarning: invalid escape sequence '\\s'\n",
      "/tmp/ipykernel_19260/1870524603.py:1: SyntaxWarning: invalid escape sequence '\\s'\n",
      "  mcperf_files = [pd.read_csv(f\"{path}/mcperf_{i}.txt\", skiprows=3, sep='\\s+') for i in range(1, num_files + 1)]\n"
     ]
    }
   ],
   "source": [
    "mcperf_files = [pd.read_csv(f\"{path}/mcperf_{i}.txt\", skiprows=3, sep='\\s+') for i in range(1, num_files + 1)]\n",
    "jobs_files = [read_txt_file(f\"{path}/jobs_{i}.txt\") for i in range(1, num_files + 1)]"
   ]
  },
  {
   "cell_type": "code",
   "execution_count": 5,
   "id": "8dd4a240",
   "metadata": {},
   "outputs": [],
   "source": [
    "start_times = [datetime.datetime.fromisoformat(jobs_files[i][0].split()[0]) for i in range(num_files)]\n",
    "end_times = [datetime.datetime.fromisoformat(jobs_files[i][-1].split()[0]) for i in range(num_files)]"
   ]
  },
  {
   "cell_type": "code",
   "execution_count": 6,
   "id": "1db8d1e2",
   "metadata": {},
   "outputs": [],
   "source": [
    "def get_runtime(history):\n",
    "\n",
    "    duration = datetime.datetime.fromisoformat(history[-1].split()[0]) - datetime.datetime.fromisoformat(history[0].split()[0])\n",
    "    for i in range(1, len(history) - 1, 2):\n",
    "        duration -= datetime.datetime.fromisoformat(history[i + 1].split()[0]) - datetime.datetime.fromisoformat(history[i].split()[0])\n",
    "    \n",
    "    print(history)\n",
    "    return duration.total_seconds()"
   ]
  },
  {
   "cell_type": "code",
   "execution_count": 7,
   "id": "34666f71",
   "metadata": {},
   "outputs": [
    {
     "name": "stdout",
     "output_type": "stream",
     "text": [
      "['2025-05-12T12:44:19.134947 start blackscholes [3] 1\\n', '2025-05-12T12:46:34.417384 end blackscholes\\n']\n",
      "['2025-05-12T12:44:18.901022 start canneal [2] 1\\n', '2025-05-12T12:48:44.303416 end canneal\\n']\n",
      "['2025-05-12T12:46:34.745699 start dedup [3] 1\\n', '2025-05-12T12:47:09.136806 end dedup\\n']\n",
      "['2025-05-12T12:51:39.074730 start ferret [3] 3\\n', '2025-05-12T12:54:53.153691 end ferret\\n']\n",
      "['2025-05-12T12:47:09.131867 start freqmine [1] 3\\n', '2025-05-12T12:51:38.825008 end freqmine\\n']\n",
      "['2025-05-12T12:44:18.700494 start radix [1] 1\\n', '2025-05-12T12:44:34.329468 pause radix\\n', '2025-05-12T12:44:43.272528 unpause radix\\n', '2025-05-12T12:44:48.695303 pause radix\\n', '2025-05-12T12:45:58.890006 unpause radix\\n', '2025-05-12T12:46:03.044946 pause radix\\n', '2025-05-12T12:46:13.553705 unpause radix\\n', '2025-05-12T12:46:23.724080 pause radix\\n', '2025-05-12T12:46:28.182342 unpause radix\\n', '2025-05-12T12:46:35.331311 pause radix\\n', '2025-05-12T12:46:35.476568 unpause radix\\n', '2025-05-12T12:46:38.946967 pause radix\\n', '2025-05-12T12:46:50.019778 unpause radix\\n', '2025-05-12T12:46:51.592685 pause radix\\n', '2025-05-12T12:46:53.198533 unpause radix\\n', '2025-05-12T12:46:53.249172 pause radix\\n', '2025-05-12T12:47:03.360855 unpause radix\\n', '2025-05-12T12:47:08.839248 end radix\\n']\n",
      "['2025-05-12T12:54:53.349105 start vips [1] 3\\n', '2025-05-12T12:55:46.707090 end vips\\n']\n",
      "['2025-05-12T12:59:00.336286 start blackscholes [3] 1\\n', '2025-05-12T13:01:14.142093 end blackscholes\\n']\n",
      "['2025-05-12T12:59:00.109773 start canneal [2] 1\\n', '2025-05-12T13:03:20.490548 end canneal\\n']\n",
      "['2025-05-12T13:01:14.444972 start dedup [3] 1\\n', '2025-05-12T13:01:50.188571 end dedup\\n']\n",
      "['2025-05-12T13:06:14.711552 start ferret [3] 3\\n', '2025-05-12T13:09:27.486021 end ferret\\n']\n",
      "['2025-05-12T13:01:50.184521 start freqmine [1] 3\\n', '2025-05-12T13:06:14.454894 end freqmine\\n']\n",
      "['2025-05-12T12:58:59.913076 start radix [1] 1\\n', '2025-05-12T12:59:15.275320 pause radix\\n', '2025-05-12T12:59:24.406553 unpause radix\\n', '2025-05-12T12:59:29.846546 pause radix\\n', '2025-05-12T13:00:39.986528 unpause radix\\n', '2025-05-12T13:00:44.147549 pause radix\\n', '2025-05-12T13:00:54.634215 unpause radix\\n', '2025-05-12T13:01:04.797395 pause radix\\n', '2025-05-12T13:01:09.271773 unpause radix\\n', '2025-05-12T13:01:20.036071 pause radix\\n', '2025-05-12T13:01:31.212818 unpause radix\\n', '2025-05-12T13:01:32.783907 pause radix\\n', '2025-05-12T13:01:33.055361 unpause radix\\n', '2025-05-12T13:01:33.976187 pause radix\\n', '2025-05-12T13:01:44.458878 unpause radix\\n', '2025-05-12T13:01:49.902267 end radix\\n']\n",
      "['2025-05-12T13:09:27.737406 start vips [3] 3\\n', '2025-05-12T13:10:22.220293 end vips\\n']\n",
      "['2025-05-12T13:13:41.553534 start blackscholes [3] 1\\n', '2025-05-12T13:15:53.112636 end blackscholes\\n']\n",
      "['2025-05-12T13:13:41.334896 start canneal [2] 1\\n', '2025-05-12T13:18:20.449312 end canneal\\n']\n",
      "['2025-05-12T13:15:53.369904 start dedup [3] 1\\n', '2025-05-12T13:16:28.843528 end dedup\\n']\n",
      "['2025-05-12T13:21:05.872352 start ferret [3] 3\\n', '2025-05-12T13:24:19.977052 end ferret\\n']\n",
      "['2025-05-12T13:16:29.069198 start freqmine [3] 3\\n', '2025-05-12T13:21:05.659183 end freqmine\\n']\n",
      "['2025-05-12T13:13:41.145963 start radix [1] 1\\n', '2025-05-12T13:13:56.343641 pause radix\\n', '2025-05-12T13:14:05.057922 unpause radix\\n', '2025-05-12T13:14:10.458436 pause radix\\n', '2025-05-12T13:15:20.651480 unpause radix\\n', '2025-05-12T13:15:24.863995 pause radix\\n', '2025-05-12T13:15:35.294461 unpause radix\\n', '2025-05-12T13:15:45.503234 pause radix\\n', '2025-05-12T13:15:49.986939 unpause radix\\n', '2025-05-12T13:16:00.671528 pause radix\\n', '2025-05-12T13:16:11.801849 unpause radix\\n', '2025-05-12T13:16:12.841191 pause radix\\n', '2025-05-12T13:16:12.996393 unpause radix\\n', '2025-05-12T13:16:13.931504 pause radix\\n', '2025-05-12T13:16:14.081521 unpause radix\\n', '2025-05-12T13:16:15.025343 pause radix\\n', '2025-05-12T13:16:28.529313 unpause radix\\n', '2025-05-12T13:16:29.072947 end radix\\n']\n",
      "['2025-05-12T13:24:20.180191 start vips [3] 3\\n', '2025-05-12T13:25:16.761525 end vips\\n']\n"
     ]
    }
   ],
   "source": [
    "total_durations = [(end_times[i] - start_times[i]).total_seconds() for i in range(num_files)]\n",
    "\n",
    "jobs = ['blackscholes', 'canneal', 'dedup', 'ferret', 'freqmine', 'radix', 'vips']\n",
    "\n",
    "\n",
    "jobs_timestamps = [{j : [l for l in jobs_files[i] if j in l] for j in jobs} for i in range(num_files)]\n",
    "jobs_duration = [{j: get_runtime([e for e in h if 'custom' not in e and 'updated' not in e]) for j,h in jobs_timestamps[i].items()} for i in range(num_files)]"
   ]
  },
  {
   "cell_type": "code",
   "execution_count": 8,
   "id": "a618fd44",
   "metadata": {},
   "outputs": [
    {
     "data": {
      "text/plain": [
       "[688.326895, 682.617642, 695.945857]"
      ]
     },
     "execution_count": 8,
     "metadata": {},
     "output_type": "execute_result"
    }
   ],
   "source": [
    "total_durations"
   ]
  },
  {
   "cell_type": "code",
   "execution_count": 9,
   "id": "02909e7f",
   "metadata": {},
   "outputs": [
    {
     "data": {
      "text/plain": [
       "[{'blackscholes': 135.282437,\n",
       "  'canneal': 265.402394,\n",
       "  'dedup': 34.391107,\n",
       "  'ferret': 194.078961,\n",
       "  'freqmine': 269.693141,\n",
       "  'radix': 53.098371,\n",
       "  'vips': 53.357985},\n",
       " {'blackscholes': 133.805807,\n",
       "  'canneal': 260.380775,\n",
       "  'dedup': 35.743599,\n",
       "  'ferret': 192.774469,\n",
       "  'freqmine': 264.270373,\n",
       "  'radix': 53.82604,\n",
       "  'vips': 54.482887},\n",
       " {'blackscholes': 131.559102,\n",
       "  'canneal': 279.114416,\n",
       "  'dedup': 35.473624,\n",
       "  'ferret': 194.1047,\n",
       "  'freqmine': 276.589985,\n",
       "  'radix': 49.165978,\n",
       "  'vips': 56.581334}]"
      ]
     },
     "execution_count": 9,
     "metadata": {},
     "output_type": "execute_result"
    }
   ],
   "source": [
    "jobs_duration"
   ]
  },
  {
   "cell_type": "code",
   "execution_count": 14,
   "id": "dad846e3",
   "metadata": {},
   "outputs": [
    {
     "data": {
      "text/plain": [
       "[1, 0, 0]"
      ]
     },
     "execution_count": 14,
     "metadata": {},
     "output_type": "execute_result"
    }
   ],
   "source": [
    "slo_violations = [int((mcperf_files[i]['p95'] > 800).sum()) for i in range(num_files)]\n",
    "slo_violations"
   ]
  },
  {
   "cell_type": "code",
   "execution_count": null,
   "id": "04a01a69",
   "metadata": {},
   "outputs": [],
   "source": []
  },
  {
   "cell_type": "code",
   "execution_count": null,
   "id": "df1c8c26",
   "metadata": {},
   "outputs": [],
   "source": []
  },
  {
   "cell_type": "code",
   "execution_count": null,
   "id": "30fae9af",
   "metadata": {},
   "outputs": [],
   "source": []
  },
  {
   "cell_type": "code",
   "execution_count": null,
   "id": "9b436fe6",
   "metadata": {},
   "outputs": [],
   "source": []
  }
 ],
 "metadata": {
  "kernelspec": {
   "display_name": "plots",
   "language": "python",
   "name": "python3"
  },
  "language_info": {
   "codemirror_mode": {
    "name": "ipython",
    "version": 3
   },
   "file_extension": ".py",
   "mimetype": "text/x-python",
   "name": "python",
   "nbconvert_exporter": "python",
   "pygments_lexer": "ipython3",
   "version": "3.13.2"
  }
 },
 "nbformat": 4,
 "nbformat_minor": 5
}
