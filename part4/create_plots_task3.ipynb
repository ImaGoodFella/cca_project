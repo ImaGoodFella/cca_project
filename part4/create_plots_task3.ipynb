{
 "cells": [
  {
   "cell_type": "code",
   "execution_count": 1,
   "id": "707a3d8c",
   "metadata": {},
   "outputs": [],
   "source": [
    "import matplotlib.pyplot as plt\n",
    "import numpy as np\n",
    "import pandas as pd\n",
    "import seaborn as sns\n",
    "import sys\n",
    "import os\n",
    "import datetime"
   ]
  },
  {
   "cell_type": "code",
   "execution_count": 2,
   "id": "21ec9191",
   "metadata": {},
   "outputs": [],
   "source": [
    "interval_time = datetime.time(second=10)\n",
    "\n",
    "path = \"task3_outfiles\"\n",
    "#path = \"../data/part4/task2\"\n",
    "\n",
    "num_files = 3\n",
    "#num_files = 1"
   ]
  },
  {
   "cell_type": "code",
   "execution_count": 3,
   "id": "86195ec2",
   "metadata": {},
   "outputs": [],
   "source": [
    "def read_txt_file(file_path):\n",
    "    \"\"\"\n",
    "    Reads a text file and returns\n",
    "    \"\"\"\n",
    "    with open(file_path, 'r') as file:\n",
    "        lines = file.readlines()\n",
    "    return lines"
   ]
  },
  {
   "cell_type": "code",
   "execution_count": 4,
   "id": "e42a5b75",
   "metadata": {},
   "outputs": [
    {
     "name": "stderr",
     "output_type": "stream",
     "text": [
      "<>:1: SyntaxWarning: invalid escape sequence '\\s'\n",
      "<>:1: SyntaxWarning: invalid escape sequence '\\s'\n",
      "/tmp/ipykernel_18301/1870524603.py:1: SyntaxWarning: invalid escape sequence '\\s'\n",
      "  mcperf_files = [pd.read_csv(f\"{path}/mcperf_{i}.txt\", skiprows=3, sep='\\s+') for i in range(1, num_files + 1)]\n"
     ]
    }
   ],
   "source": [
    "mcperf_files = [pd.read_csv(f\"{path}/mcperf_{i}.txt\", skiprows=3, sep='\\s+') for i in range(1, num_files + 1)]\n",
    "jobs_files = [read_txt_file(f\"{path}/jobs_{i}.txt\") for i in range(1, num_files + 1)]"
   ]
  },
  {
   "cell_type": "code",
   "execution_count": 5,
   "id": "8dd4a240",
   "metadata": {},
   "outputs": [],
   "source": [
    "start_times = [datetime.datetime.fromisoformat(jobs_files[i][0].split()[0]) for i in range(num_files)]\n",
    "end_times = [datetime.datetime.fromisoformat(jobs_files[i][-1].split()[0]) for i in range(num_files)]"
   ]
  },
  {
   "cell_type": "code",
   "execution_count": 6,
   "id": "1db8d1e2",
   "metadata": {},
   "outputs": [],
   "source": [
    "def get_runtime(history):\n",
    "\n",
    "    duration = datetime.datetime.fromisoformat(history[-1].split()[0]) - datetime.datetime.fromisoformat(history[0].split()[0])\n",
    "    for i in range(1, len(history) - 1, 2):\n",
    "        duration -= datetime.datetime.fromisoformat(history[i + 1].split()[0]) - datetime.datetime.fromisoformat(history[i].split()[0])\n",
    "    \n",
    "    print(history)\n",
    "    return duration.total_seconds()"
   ]
  },
  {
   "cell_type": "code",
   "execution_count": 7,
   "id": "34666f71",
   "metadata": {},
   "outputs": [
    {
     "name": "stdout",
     "output_type": "stream",
     "text": [
      "['2025-05-12T11:59:19.481375 start blackscholes [3] 1\\n', '2025-05-12T12:01:32.941362 end blackscholes\\n']\n",
      "['2025-05-12T11:59:19.256668 start canneal [2] 1\\n', '2025-05-12T12:03:45.094748 end canneal\\n']\n",
      "['2025-05-12T12:01:53.887637 start dedup [3] 1\\n', '2025-05-12T12:02:32.937895 end dedup\\n']\n",
      "['2025-05-12T12:07:14.236191 start ferret [3] 3\\n', '2025-05-12T12:10:01.627247 end ferret\\n']\n",
      "['2025-05-12T12:02:32.932285 start freqmine [1] 3\\n', '2025-05-12T12:07:13.985577 end freqmine\\n']\n",
      "['2025-05-12T11:59:19.061101 start radix [1] 1\\n', '2025-05-12T11:59:38.272712 pause radix\\n', '2025-05-12T11:59:57.776404 unpause radix\\n', '2025-05-12T12:00:08.337221 pause radix\\n', '2025-05-12T12:01:32.986296 unpause radix\\n', '2025-05-12T12:01:53.578879 end radix\\n']\n",
      "['2025-05-12T12:10:01.851677 start vips [3] 3\\n', '2025-05-12T12:11:00.634984 end vips\\n']\n",
      "['2025-05-12T12:14:00.199134 start blackscholes [3] 1\\n', '2025-05-12T12:16:12.660650 end blackscholes\\n']\n",
      "['2025-05-12T12:13:59.968631 start canneal [2] 1\\n', '2025-05-12T12:19:09.005024 end canneal\\n']\n",
      "['2025-05-12T12:16:32.824726 start dedup [3] 1\\n', '2025-05-12T12:17:12.203229 end dedup\\n']\n",
      "['2025-05-12T12:22:11.953476 start ferret [3] 3\\n', '2025-05-12T12:25:06.142565 end ferret\\n']\n",
      "['2025-05-12T12:17:12.478617 start freqmine [3] 3\\n', '2025-05-12T12:22:11.747324 end freqmine\\n']\n",
      "['2025-05-12T12:13:59.766584 start radix [1] 1\\n', '2025-05-12T12:14:19.000786 pause radix\\n', '2025-05-12T12:14:38.567810 unpause radix\\n', '2025-05-12T12:14:49.049439 pause radix\\n', '2025-05-12T12:16:12.704231 unpause radix\\n', '2025-05-12T12:16:32.515573 end radix\\n']\n",
      "['2025-05-12T12:25:06.376389 start vips [3] 3\\n', '2025-05-12T12:25:57.890712 end vips\\n']\n",
      "['2025-05-12T12:28:41.570493 start blackscholes [3] 1\\n', '2025-05-12T12:30:54.565371 end blackscholes\\n']\n",
      "['2025-05-12T12:28:41.346145 start canneal [2] 1\\n', '2025-05-12T12:33:17.562171 end canneal\\n']\n",
      "['2025-05-12T12:31:14.534301 start dedup [3] 1\\n', '2025-05-12T12:31:54.584143 end dedup\\n']\n",
      "['2025-05-12T12:36:41.896245 start ferret [3] 3\\n', '2025-05-12T12:39:27.786801 end ferret\\n']\n",
      "['2025-05-12T12:31:54.854597 start freqmine [3] 3\\n', '2025-05-12T12:36:41.705227 end freqmine\\n']\n",
      "['2025-05-12T12:28:41.149001 start radix [1] 1\\n', '2025-05-12T12:29:00.858338 pause radix\\n', '2025-05-12T12:29:20.375460 unpause radix\\n', '2025-05-12T12:29:30.726518 pause radix\\n', '2025-05-12T12:30:54.609815 unpause radix\\n', '2025-05-12T12:31:14.245943 end radix\\n']\n",
      "['2025-05-12T12:39:28.001947 start vips [3] 3\\n', '2025-05-12T12:40:23.819254 end vips\\n']\n"
     ]
    }
   ],
   "source": [
    "total_durations = [(end_times[i] - start_times[i]).total_seconds() for i in range(num_files)]\n",
    "\n",
    "jobs = ['blackscholes', 'canneal', 'dedup', 'ferret', 'freqmine', 'radix', 'vips']\n",
    "\n",
    "\n",
    "jobs_timestamps = [{j : [l for l in jobs_files[i] if j in l] for j in jobs} for i in range(num_files)]\n",
    "jobs_duration = [{j: get_runtime([e for e in h if 'custom' not in e and 'updated' not in e]) for j,h in jobs_timestamps[i].items()} for i in range(num_files)]"
   ]
  },
  {
   "cell_type": "code",
   "execution_count": 8,
   "id": "a618fd44",
   "metadata": {},
   "outputs": [
    {
     "data": {
      "text/plain": [
       "[701.880531, 718.439465, 702.982787]"
      ]
     },
     "execution_count": 8,
     "metadata": {},
     "output_type": "execute_result"
    }
   ],
   "source": [
    "total_durations"
   ]
  },
  {
   "cell_type": "code",
   "execution_count": 9,
   "id": "02909e7f",
   "metadata": {},
   "outputs": [
    {
     "data": {
      "text/plain": [
       "[{'blackscholes': 133.459987,\n",
       "  'canneal': 265.83808,\n",
       "  'dedup': 39.050258,\n",
       "  'ferret': 167.391056,\n",
       "  'freqmine': 281.053292,\n",
       "  'radix': 50.365011,\n",
       "  'vips': 58.783307},\n",
       " {'blackscholes': 132.461516,\n",
       "  'canneal': 309.036393,\n",
       "  'dedup': 39.378503,\n",
       "  'ferret': 174.189089,\n",
       "  'freqmine': 299.268707,\n",
       "  'radix': 49.527173,\n",
       "  'vips': 51.514323},\n",
       " {'blackscholes': 132.994878,\n",
       "  'canneal': 276.216026,\n",
       "  'dedup': 40.049842,\n",
       "  'ferret': 165.890556,\n",
       "  'freqmine': 286.85063,\n",
       "  'radix': 49.696523,\n",
       "  'vips': 55.817307}]"
      ]
     },
     "execution_count": 9,
     "metadata": {},
     "output_type": "execute_result"
    }
   ],
   "source": [
    "jobs_duration"
   ]
  },
  {
   "cell_type": "code",
   "execution_count": 24,
   "id": "dad846e3",
   "metadata": {},
   "outputs": [
    {
     "data": {
      "text/plain": [
       "[0, 0, 0]"
      ]
     },
     "execution_count": 24,
     "metadata": {},
     "output_type": "execute_result"
    }
   ],
   "source": [
    "slo_violations = [int((mcperf_files[i]['p95'] > 800).sum()) for i in range(num_files)]\n",
    "slo_violations"
   ]
  },
  {
   "cell_type": "code",
   "execution_count": null,
   "id": "04a01a69",
   "metadata": {},
   "outputs": [
    {
     "data": {
      "text/plain": [
       "np.int64(0)"
      ]
     },
     "execution_count": 21,
     "metadata": {},
     "output_type": "execute_result"
    }
   ],
   "source": []
  },
  {
   "cell_type": "code",
   "execution_count": null,
   "id": "df1c8c26",
   "metadata": {},
   "outputs": [],
   "source": []
  },
  {
   "cell_type": "code",
   "execution_count": null,
   "id": "30fae9af",
   "metadata": {},
   "outputs": [],
   "source": []
  },
  {
   "cell_type": "code",
   "execution_count": null,
   "id": "9b436fe6",
   "metadata": {},
   "outputs": [],
   "source": []
  },
  {
   "cell_type": "code",
   "execution_count": null,
   "id": "d4c10f62",
   "metadata": {},
   "outputs": [],
   "source": []
  }
 ],
 "metadata": {
  "kernelspec": {
   "display_name": "plots",
   "language": "python",
   "name": "python3"
  },
  "language_info": {
   "codemirror_mode": {
    "name": "ipython",
    "version": 3
   },
   "file_extension": ".py",
   "mimetype": "text/x-python",
   "name": "python",
   "nbconvert_exporter": "python",
   "pygments_lexer": "ipython3",
   "version": "3.13.2"
  }
 },
 "nbformat": 4,
 "nbformat_minor": 5
}
